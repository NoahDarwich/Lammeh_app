{
 "cells": [
  {
   "cell_type": "code",
   "execution_count": 1,
   "metadata": {},
   "outputs": [],
   "source": [
    "import pandas as pd"
   ]
  },
  {
   "cell_type": "code",
   "execution_count": 6,
   "metadata": {},
   "outputs": [],
   "source": [
    "class User:\n",
    "    def __init__(self, name, offers_df, needs_df):\n",
    "        self.name = name\n",
    "        self.offers_df = offers_df\n",
    "        self.needs_df = needs_df\n",
    "\n",
    "    def can_help(self, other_user):\n",
    "        for skill in self.offers_df.index:\n",
    "            if skill in other_user.needs_df.index:\n",
    "                return True\n",
    "        return False\n",
    "\n",
    "    def needs_help_from(self, other_user):\n",
    "        for need in self.needs_df.index:\n",
    "            if need in other_user.offers_df.index:\n",
    "                return True\n",
    "        return False"
   ]
  },
  {
   "cell_type": "code",
   "execution_count": 3,
   "metadata": {},
   "outputs": [],
   "source": [
    "class Matcher:\n",
    "    def __init__(self, users):\n",
    "        self.users = users\n",
    "\n",
    "    def find_matches(self):\n",
    "        matches = []\n",
    "        for user in self.users:\n",
    "            for other_user in self.users:\n",
    "                if user != other_user and user.can_help(other_user) and other_user.needs_help_from(user):\n",
    "                    matches.append((user, other_user))\n",
    "        return matches"
   ]
  },
  {
   "cell_type": "code",
   "execution_count": 5,
   "metadata": {},
   "outputs": [],
   "source": [
    "def match_user(name, skills, needs):\n",
    "    # Load the needs and skills datasets\n",
    "    skills_df = pd.read_csv(\"../raw_data/skills.csv\")\n",
    "    needs_df = pd.read_csv(\"../raw_data/needs.csv\")\n",
    "\n",
    "    # Create a user object\n",
    "    user = User(name, skills_df.loc[skills_df[\"name\"] == name], needs_df.loc[needs_df[\"name\"] == name])\n",
    "\n",
    "    # Create a matcher object and find the matches\n",
    "    matcher = Matcher([user])\n",
    "    matches = matcher.find_matches()\n",
    "\n",
    "    return matches"
   ]
  }
 ],
 "metadata": {
  "kernelspec": {
   "display_name": "Python 3",
   "language": "python",
   "name": "python3"
  },
  "language_info": {
   "codemirror_mode": {
    "name": "ipython",
    "version": 3
   },
   "file_extension": ".py",
   "mimetype": "text/x-python",
   "name": "python",
   "nbconvert_exporter": "python",
   "pygments_lexer": "ipython3",
   "version": "3.8.12"
  },
  "orig_nbformat": 4
 },
 "nbformat": 4,
 "nbformat_minor": 2
}
